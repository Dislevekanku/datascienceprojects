{
 "cells": [
  {
   "cell_type": "markdown",
   "id": "24580d7f",
   "metadata": {},
   "source": [
    "# Finding donors for charity using ML"
   ]
  },
  {
   "cell_type": "markdown",
   "id": "80f4b6e1",
   "metadata": {},
   "source": [
    "In this project, I use various supervised learning alogirthms to predict an individual's income using data collected from the 1994 U.S Census. I then selected the best algorithm and then further optimized this algorithm to best model the data. My goal is to predict whether an individual makes more than $50,000. This can help non-profit organisations better understand how large of a donation to request, or whether or not they should reach out to certain individuals."
   ]
  },
  {
   "cell_type": "markdown",
   "id": "faf96df4",
   "metadata": {},
   "source": [
    "The dataset originates from the https://archive.ics.uci.edu/ml/datasets/Census+Income ."
   ]
  },
  {
   "cell_type": "markdown",
   "id": "f8a25a9a",
   "metadata": {},
   "source": [
    "## Data Exploration"
   ]
  },
  {
   "cell_type": "markdown",
   "id": "84831044",
   "metadata": {},
   "source": [
    "I started off by importing the necessary libraries, reading the data and exploring the dataset."
   ]
  },
  {
   "cell_type": "code",
   "execution_count": 2,
   "id": "e8517ba3",
   "metadata": {},
   "outputs": [
    {
     "data": {
      "text/html": [
       "<div>\n",
       "<style scoped>\n",
       "    .dataframe tbody tr th:only-of-type {\n",
       "        vertical-align: middle;\n",
       "    }\n",
       "\n",
       "    .dataframe tbody tr th {\n",
       "        vertical-align: top;\n",
       "    }\n",
       "\n",
       "    .dataframe thead th {\n",
       "        text-align: right;\n",
       "    }\n",
       "</style>\n",
       "<table border=\"1\" class=\"dataframe\">\n",
       "  <thead>\n",
       "    <tr style=\"text-align: right;\">\n",
       "      <th></th>\n",
       "      <th>age</th>\n",
       "      <th>workclass</th>\n",
       "      <th>education</th>\n",
       "      <th>education-num</th>\n",
       "      <th>marital-status</th>\n",
       "      <th>occupation</th>\n",
       "      <th>relationship</th>\n",
       "      <th>race</th>\n",
       "      <th>sex</th>\n",
       "      <th>capital-gain</th>\n",
       "      <th>capital-loss</th>\n",
       "      <th>hours-per-week</th>\n",
       "      <th>native-country</th>\n",
       "      <th>income</th>\n",
       "    </tr>\n",
       "  </thead>\n",
       "  <tbody>\n",
       "    <tr>\n",
       "      <th>0</th>\n",
       "      <td>25</td>\n",
       "      <td>Private</td>\n",
       "      <td>11th</td>\n",
       "      <td>7</td>\n",
       "      <td>Never-married</td>\n",
       "      <td>Machine-op-inspct</td>\n",
       "      <td>Own-child</td>\n",
       "      <td>Black</td>\n",
       "      <td>Male</td>\n",
       "      <td>0</td>\n",
       "      <td>0</td>\n",
       "      <td>40</td>\n",
       "      <td>United-States</td>\n",
       "      <td>&lt;=50K</td>\n",
       "    </tr>\n",
       "    <tr>\n",
       "      <th>1</th>\n",
       "      <td>38</td>\n",
       "      <td>Private</td>\n",
       "      <td>HS-grad</td>\n",
       "      <td>9</td>\n",
       "      <td>Married-civ-spouse</td>\n",
       "      <td>Farming-fishing</td>\n",
       "      <td>Husband</td>\n",
       "      <td>White</td>\n",
       "      <td>Male</td>\n",
       "      <td>0</td>\n",
       "      <td>0</td>\n",
       "      <td>50</td>\n",
       "      <td>United-States</td>\n",
       "      <td>&lt;=50K</td>\n",
       "    </tr>\n",
       "    <tr>\n",
       "      <th>2</th>\n",
       "      <td>28</td>\n",
       "      <td>Local-gov</td>\n",
       "      <td>Assoc-acdm</td>\n",
       "      <td>12</td>\n",
       "      <td>Married-civ-spouse</td>\n",
       "      <td>Protective-serv</td>\n",
       "      <td>Husband</td>\n",
       "      <td>White</td>\n",
       "      <td>Male</td>\n",
       "      <td>0</td>\n",
       "      <td>0</td>\n",
       "      <td>40</td>\n",
       "      <td>United-States</td>\n",
       "      <td>&gt;50K</td>\n",
       "    </tr>\n",
       "    <tr>\n",
       "      <th>3</th>\n",
       "      <td>44</td>\n",
       "      <td>Private</td>\n",
       "      <td>Some-college</td>\n",
       "      <td>10</td>\n",
       "      <td>Married-civ-spouse</td>\n",
       "      <td>Machine-op-inspct</td>\n",
       "      <td>Husband</td>\n",
       "      <td>Black</td>\n",
       "      <td>Male</td>\n",
       "      <td>7688</td>\n",
       "      <td>0</td>\n",
       "      <td>40</td>\n",
       "      <td>United-States</td>\n",
       "      <td>&gt;50K</td>\n",
       "    </tr>\n",
       "    <tr>\n",
       "      <th>4</th>\n",
       "      <td>18</td>\n",
       "      <td>?</td>\n",
       "      <td>Some-college</td>\n",
       "      <td>10</td>\n",
       "      <td>Never-married</td>\n",
       "      <td>?</td>\n",
       "      <td>Own-child</td>\n",
       "      <td>White</td>\n",
       "      <td>Female</td>\n",
       "      <td>0</td>\n",
       "      <td>0</td>\n",
       "      <td>30</td>\n",
       "      <td>United-States</td>\n",
       "      <td>&lt;=50K</td>\n",
       "    </tr>\n",
       "  </tbody>\n",
       "</table>\n",
       "</div>"
      ],
      "text/plain": [
       "   age  workclass     education  education-num      marital-status  \\\n",
       "0   25    Private          11th              7       Never-married   \n",
       "1   38    Private       HS-grad              9  Married-civ-spouse   \n",
       "2   28  Local-gov    Assoc-acdm             12  Married-civ-spouse   \n",
       "3   44    Private  Some-college             10  Married-civ-spouse   \n",
       "4   18          ?  Some-college             10       Never-married   \n",
       "\n",
       "          occupation relationship   race     sex  capital-gain  capital-loss  \\\n",
       "0  Machine-op-inspct    Own-child  Black    Male             0             0   \n",
       "1    Farming-fishing      Husband  White    Male             0             0   \n",
       "2    Protective-serv      Husband  White    Male             0             0   \n",
       "3  Machine-op-inspct      Husband  Black    Male          7688             0   \n",
       "4                  ?    Own-child  White  Female             0             0   \n",
       "\n",
       "   hours-per-week native-country income  \n",
       "0              40  United-States  <=50K  \n",
       "1              50  United-States  <=50K  \n",
       "2              40  United-States   >50K  \n",
       "3              40  United-States   >50K  \n",
       "4              30  United-States  <=50K  "
      ]
     },
     "execution_count": 2,
     "metadata": {},
     "output_type": "execute_result"
    }
   ],
   "source": [
    "import numpy as np\n",
    "import pandas as pd\n",
    "from time import time\n",
    "#from Ipython.display import display # allowws rhe use of display() for Dataframes\n",
    "\n",
    "# Import visualisation libraries\n",
    "#import visuals as vs\n",
    "import seaborn as sns\n",
    "import matplotlib.pyplot as plt\n",
    "\n",
    "%matplotlib inline\n",
    "\n",
    "#from __future__import division\n",
    "\n",
    "# Load the census dataset\n",
    "data = pd.read_csv(r'link to dataset')\n",
    "# Drop fnlwgt column\n",
    "data = data.drop('fnlwgt', axis=1)\n",
    "data.head()"
   ]
  },
  {
   "cell_type": "markdown",
   "id": "96d26bae",
   "metadata": {},
   "source": [
    "This dataset can determine how many individuals fit into either groups and the percentage of these individuals who make more than $50,000"
   ]
  },
  {
   "cell_type": "code",
   "execution_count": 3,
   "id": "394779f7",
   "metadata": {},
   "outputs": [
    {
     "data": {
      "text/plain": [
       "age                  0\n",
       "workclass         2799\n",
       "education            0\n",
       "education-num        0\n",
       "marital-status       0\n",
       "occupation        2809\n",
       "relationship         0\n",
       "race                 0\n",
       "sex                  0\n",
       "capital-gain         0\n",
       "capital-loss         0\n",
       "hours-per-week       0\n",
       "native-country     857\n",
       "income               0\n",
       "dtype: int64"
      ]
     },
     "execution_count": 3,
     "metadata": {},
     "output_type": "execute_result"
    }
   ],
   "source": [
    "# FInding special characters in the dataframe\n",
    "data.isin(['?']).sum(axis=0)"
   ]
  },
  {
   "cell_type": "code",
   "execution_count": 4,
   "id": "a5afe954",
   "metadata": {},
   "outputs": [],
   "source": [
    "# We replace the special characters to nan \n",
    "data['workclass'] = data['workclass'].replace('?',np.nan)\n",
    "data['occupation'] = data['occupation'].replace('?',np.nan)\n",
    "data['native-country'] = data['native-country'].replace('?',np.nan)\n",
    " \n",
    "#dropping the NaN rows now\n",
    "df_drop= pd.DataFrame(data, columns=data.columns,index=data.index) \n",
    "df_drop.dropna(how='any',inplace=True)"
   ]
  },
  {
   "cell_type": "code",
   "execution_count": 5,
   "id": "ce0a5421",
   "metadata": {},
   "outputs": [
    {
     "data": {
      "text/html": [
       "<div>\n",
       "<style scoped>\n",
       "    .dataframe tbody tr th:only-of-type {\n",
       "        vertical-align: middle;\n",
       "    }\n",
       "\n",
       "    .dataframe tbody tr th {\n",
       "        vertical-align: top;\n",
       "    }\n",
       "\n",
       "    .dataframe thead th {\n",
       "        text-align: right;\n",
       "    }\n",
       "</style>\n",
       "<table border=\"1\" class=\"dataframe\">\n",
       "  <thead>\n",
       "    <tr style=\"text-align: right;\">\n",
       "      <th></th>\n",
       "      <th>age</th>\n",
       "      <th>education-num</th>\n",
       "      <th>capital-gain</th>\n",
       "      <th>capital-loss</th>\n",
       "      <th>hours-per-week</th>\n",
       "    </tr>\n",
       "  </thead>\n",
       "  <tbody>\n",
       "    <tr>\n",
       "      <th>count</th>\n",
       "      <td>48842.000000</td>\n",
       "      <td>48842.000000</td>\n",
       "      <td>48842.000000</td>\n",
       "      <td>48842.000000</td>\n",
       "      <td>48842.000000</td>\n",
       "    </tr>\n",
       "    <tr>\n",
       "      <th>mean</th>\n",
       "      <td>38.643585</td>\n",
       "      <td>10.078089</td>\n",
       "      <td>1079.067626</td>\n",
       "      <td>87.502314</td>\n",
       "      <td>40.422382</td>\n",
       "    </tr>\n",
       "    <tr>\n",
       "      <th>std</th>\n",
       "      <td>13.710510</td>\n",
       "      <td>2.570973</td>\n",
       "      <td>7452.019058</td>\n",
       "      <td>403.004552</td>\n",
       "      <td>12.391444</td>\n",
       "    </tr>\n",
       "    <tr>\n",
       "      <th>min</th>\n",
       "      <td>17.000000</td>\n",
       "      <td>1.000000</td>\n",
       "      <td>0.000000</td>\n",
       "      <td>0.000000</td>\n",
       "      <td>1.000000</td>\n",
       "    </tr>\n",
       "    <tr>\n",
       "      <th>25%</th>\n",
       "      <td>28.000000</td>\n",
       "      <td>9.000000</td>\n",
       "      <td>0.000000</td>\n",
       "      <td>0.000000</td>\n",
       "      <td>40.000000</td>\n",
       "    </tr>\n",
       "    <tr>\n",
       "      <th>50%</th>\n",
       "      <td>37.000000</td>\n",
       "      <td>10.000000</td>\n",
       "      <td>0.000000</td>\n",
       "      <td>0.000000</td>\n",
       "      <td>40.000000</td>\n",
       "    </tr>\n",
       "    <tr>\n",
       "      <th>75%</th>\n",
       "      <td>48.000000</td>\n",
       "      <td>12.000000</td>\n",
       "      <td>0.000000</td>\n",
       "      <td>0.000000</td>\n",
       "      <td>45.000000</td>\n",
       "    </tr>\n",
       "    <tr>\n",
       "      <th>max</th>\n",
       "      <td>90.000000</td>\n",
       "      <td>16.000000</td>\n",
       "      <td>99999.000000</td>\n",
       "      <td>4356.000000</td>\n",
       "      <td>99.000000</td>\n",
       "    </tr>\n",
       "  </tbody>\n",
       "</table>\n",
       "</div>"
      ],
      "text/plain": [
       "                age  education-num  capital-gain  capital-loss  hours-per-week\n",
       "count  48842.000000   48842.000000  48842.000000  48842.000000    48842.000000\n",
       "mean      38.643585      10.078089   1079.067626     87.502314       40.422382\n",
       "std       13.710510       2.570973   7452.019058    403.004552       12.391444\n",
       "min       17.000000       1.000000      0.000000      0.000000        1.000000\n",
       "25%       28.000000       9.000000      0.000000      0.000000       40.000000\n",
       "50%       37.000000      10.000000      0.000000      0.000000       40.000000\n",
       "75%       48.000000      12.000000      0.000000      0.000000       45.000000\n",
       "max       90.000000      16.000000  99999.000000   4356.000000       99.000000"
      ]
     },
     "execution_count": 5,
     "metadata": {},
     "output_type": "execute_result"
    }
   ],
   "source": [
    "# Statisctical summary\n",
    "data.describe()"
   ]
  },
  {
   "cell_type": "code",
   "execution_count": 6,
   "id": "b000d3f4",
   "metadata": {},
   "outputs": [
    {
     "data": {
      "text/html": [
       "<div>\n",
       "<style scoped>\n",
       "    .dataframe tbody tr th:only-of-type {\n",
       "        vertical-align: middle;\n",
       "    }\n",
       "\n",
       "    .dataframe tbody tr th {\n",
       "        vertical-align: top;\n",
       "    }\n",
       "\n",
       "    .dataframe thead th {\n",
       "        text-align: right;\n",
       "    }\n",
       "</style>\n",
       "<table border=\"1\" class=\"dataframe\">\n",
       "  <thead>\n",
       "    <tr style=\"text-align: right;\">\n",
       "      <th></th>\n",
       "      <th>workclass</th>\n",
       "      <th>education</th>\n",
       "      <th>marital-status</th>\n",
       "      <th>occupation</th>\n",
       "      <th>relationship</th>\n",
       "      <th>race</th>\n",
       "      <th>sex</th>\n",
       "      <th>native-country</th>\n",
       "      <th>income</th>\n",
       "    </tr>\n",
       "  </thead>\n",
       "  <tbody>\n",
       "    <tr>\n",
       "      <th>count</th>\n",
       "      <td>46043</td>\n",
       "      <td>48842</td>\n",
       "      <td>48842</td>\n",
       "      <td>46033</td>\n",
       "      <td>48842</td>\n",
       "      <td>48842</td>\n",
       "      <td>48842</td>\n",
       "      <td>47985</td>\n",
       "      <td>48842</td>\n",
       "    </tr>\n",
       "    <tr>\n",
       "      <th>unique</th>\n",
       "      <td>8</td>\n",
       "      <td>16</td>\n",
       "      <td>7</td>\n",
       "      <td>14</td>\n",
       "      <td>6</td>\n",
       "      <td>5</td>\n",
       "      <td>2</td>\n",
       "      <td>41</td>\n",
       "      <td>2</td>\n",
       "    </tr>\n",
       "    <tr>\n",
       "      <th>top</th>\n",
       "      <td>Private</td>\n",
       "      <td>HS-grad</td>\n",
       "      <td>Married-civ-spouse</td>\n",
       "      <td>Prof-specialty</td>\n",
       "      <td>Husband</td>\n",
       "      <td>White</td>\n",
       "      <td>Male</td>\n",
       "      <td>United-States</td>\n",
       "      <td>&lt;=50K</td>\n",
       "    </tr>\n",
       "    <tr>\n",
       "      <th>freq</th>\n",
       "      <td>33906</td>\n",
       "      <td>15784</td>\n",
       "      <td>22379</td>\n",
       "      <td>6172</td>\n",
       "      <td>19716</td>\n",
       "      <td>41762</td>\n",
       "      <td>32650</td>\n",
       "      <td>43832</td>\n",
       "      <td>37155</td>\n",
       "    </tr>\n",
       "  </tbody>\n",
       "</table>\n",
       "</div>"
      ],
      "text/plain": [
       "       workclass education      marital-status      occupation relationship  \\\n",
       "count      46043     48842               48842           46033        48842   \n",
       "unique         8        16                   7              14            6   \n",
       "top      Private   HS-grad  Married-civ-spouse  Prof-specialty      Husband   \n",
       "freq       33906     15784               22379            6172        19716   \n",
       "\n",
       "         race    sex native-country income  \n",
       "count   48842  48842          47985  48842  \n",
       "unique      5      2             41      2  \n",
       "top     White   Male  United-States  <=50K  \n",
       "freq    41762  32650          43832  37155  "
      ]
     },
     "execution_count": 6,
     "metadata": {},
     "output_type": "execute_result"
    }
   ],
   "source": [
    "# Categorical features\n",
    "data.describe(include=object)"
   ]
  },
  {
   "cell_type": "code",
   "execution_count": 7,
   "id": "f26708e4",
   "metadata": {},
   "outputs": [
    {
     "name": "stdout",
     "output_type": "stream",
     "text": [
      "Total number of records: 48842\n",
      "Individuals making more than $50,000: 11687\n",
      "Individuals making at most $50,000: 37155\n",
      "Percentage of individuals making more than $50,000: 23.93%\n"
     ]
    }
   ],
   "source": [
    "# Total number of records\n",
    "n_records = len(data)\n",
    "\n",
    "# Number of records where individual's income is more than $50,000\n",
    "n_greater_50k = len(data[data['income'] == '>50K'])\n",
    "\n",
    "# Number of records where individual's income is at most $50,000\n",
    "n_at_most_50k = len(data[data['income'] == '<=50K'])\n",
    "\n",
    "# Percentage of individuals whose income is more than $50,000\n",
    "greater_percent = 100 * n_greater_50k / n_records\n",
    "\n",
    "# Print the results\n",
    "print(\"Total number of records: {}\".format(n_records))\n",
    "print(\"Individuals making more than $50,000: {}\".format(n_greater_50k))\n",
    "print(\"Individuals making at most $50,000: {}\".format(n_at_most_50k))\n",
    "print(\"Percentage of individuals making more than $50,000: {:.2f}%\".format(greater_percent))"
   ]
  },
  {
   "cell_type": "markdown",
   "id": "2fa5e224",
   "metadata": {},
   "source": [
    "## Exploratory Data Analysis"
   ]
  },
  {
   "cell_type": "code",
   "execution_count": 8,
   "id": "dfbe36a3",
   "metadata": {},
   "outputs": [
    {
     "name": "stdout",
     "output_type": "stream",
     "text": [
      "        Count       %\n",
      "Male    32650  66.85%\n",
      "Female  16192  33.15%\n"
     ]
    },
    {
     "data": {
      "text/plain": [
       "Text(0.5, 1.0, 'Gender distribution')"
      ]
     },
     "execution_count": 8,
     "metadata": {},
     "output_type": "execute_result"
    },
    {
     "data": {
      "image/png": "[encoded data removed]",
      "text/plain": [
       "<Figure size 432x288 with 1 Axes>"
      ]
     },
     "metadata": {
      "needs_background": "light"
     },
     "output_type": "display_data"
    }
   ],
   "source": [
    "# Gender ratio\n",
    "gender = data.sex\n",
    "counts = gender.value_counts()\n",
    "percentage = gender.value_counts(normalize=True).mul(100).round(2).astype(str)+'%'\n",
    "tab = pd.DataFrame({\"Count\": counts, \"%\": percentage})\n",
    "print(tab)\n",
    "\n",
    "# Gender distribution\n",
    "gender_group = data.groupby(['sex', 'income']).size().unstack()\n",
    "gender_group.apply(lambda x:x/x.sum(), axis=1).plot(kind='barh', stacked=True, legend=False)\n",
    "plt.legend(['<=50K', '>50K'], bbox_to_anchor=(1.0, 0.7))\n",
    "plt.ylabel('Sex')\n",
    "plt.xlabel('Income ratio')\n",
    "plt.title(\"Gender distribution\")"
   ]
  },
  {
   "cell_type": "markdown",
   "id": "91c5d647",
   "metadata": {},
   "source": [
    "We notice there's more men making more than $50,000"
   ]
  },
  {
   "cell_type": "code",
   "execution_count": 9,
   "id": "5e2c9d57",
   "metadata": {},
   "outputs": [
    {
     "data": {
      "text/plain": [
       "<AxesSubplot:>"
      ]
     },
     "execution_count": 9,
     "metadata": {},
     "output_type": "execute_result"
    },
    {
     "data": {
      "image/png": "[encoded data removed]",
      "text/plain": [
       "<Figure size 432x288 with 1 Axes>"
      ]
     },
     "metadata": {
      "needs_background": "light"
     },
     "output_type": "display_data"
    }
   ],
   "source": [
    "# Age distribution\n",
    "data['age'].value_counts().sort_index().plot.line()"
   ]
  },
  {
   "cell_type": "code",
   "execution_count": 10,
   "id": "75c29cf1",
   "metadata": {},
   "outputs": [
    {
     "data": {
      "text/html": [
       "<div>\n",
       "<style scoped>\n",
       "    .dataframe tbody tr th:only-of-type {\n",
       "        vertical-align: middle;\n",
       "    }\n",
       "\n",
       "    .dataframe tbody tr th {\n",
       "        vertical-align: top;\n",
       "    }\n",
       "\n",
       "    .dataframe thead th {\n",
       "        text-align: right;\n",
       "    }\n",
       "</style>\n",
       "<table border=\"1\" class=\"dataframe\">\n",
       "  <thead>\n",
       "    <tr style=\"text-align: right;\">\n",
       "      <th>income</th>\n",
       "      <th>&lt;=50K</th>\n",
       "      <th>&gt;50K</th>\n",
       "    </tr>\n",
       "    <tr>\n",
       "      <th>native-country</th>\n",
       "      <th></th>\n",
       "      <th></th>\n",
       "    </tr>\n",
       "  </thead>\n",
       "  <tbody>\n",
       "    <tr>\n",
       "      <th>Cambodia</th>\n",
       "      <td>41.157895</td>\n",
       "      <td>43.888889</td>\n",
       "    </tr>\n",
       "    <tr>\n",
       "      <th>Canada</th>\n",
       "      <td>37.378151</td>\n",
       "      <td>46.126984</td>\n",
       "    </tr>\n",
       "    <tr>\n",
       "      <th>China</th>\n",
       "      <td>36.686047</td>\n",
       "      <td>42.027778</td>\n",
       "    </tr>\n",
       "    <tr>\n",
       "      <th>Columbia</th>\n",
       "      <td>39.123457</td>\n",
       "      <td>56.250000</td>\n",
       "    </tr>\n",
       "    <tr>\n",
       "      <th>Cuba</th>\n",
       "      <td>39.201923</td>\n",
       "      <td>42.852941</td>\n",
       "    </tr>\n",
       "    <tr>\n",
       "      <th>Dominican-Republic</th>\n",
       "      <td>41.561224</td>\n",
       "      <td>42.800000</td>\n",
       "    </tr>\n",
       "    <tr>\n",
       "      <th>Ecuador</th>\n",
       "      <td>37.948718</td>\n",
       "      <td>47.833333</td>\n",
       "    </tr>\n",
       "    <tr>\n",
       "      <th>El-Salvador</th>\n",
       "      <td>35.819444</td>\n",
       "      <td>43.454545</td>\n",
       "    </tr>\n",
       "    <tr>\n",
       "      <th>England</th>\n",
       "      <td>39.375000</td>\n",
       "      <td>46.297872</td>\n",
       "    </tr>\n",
       "    <tr>\n",
       "      <th>France</th>\n",
       "      <td>40.090909</td>\n",
       "      <td>46.500000</td>\n",
       "    </tr>\n",
       "    <tr>\n",
       "      <th>Germany</th>\n",
       "      <td>38.898649</td>\n",
       "      <td>45.706897</td>\n",
       "    </tr>\n",
       "    <tr>\n",
       "      <th>Greece</th>\n",
       "      <td>41.870968</td>\n",
       "      <td>55.555556</td>\n",
       "    </tr>\n",
       "    <tr>\n",
       "      <th>Guatemala</th>\n",
       "      <td>38.788235</td>\n",
       "      <td>36.666667</td>\n",
       "    </tr>\n",
       "    <tr>\n",
       "      <th>Haiti</th>\n",
       "      <td>36.409091</td>\n",
       "      <td>40.666667</td>\n",
       "    </tr>\n",
       "    <tr>\n",
       "      <th>Holand-Netherlands</th>\n",
       "      <td>40.000000</td>\n",
       "      <td>NaN</td>\n",
       "    </tr>\n",
       "    <tr>\n",
       "      <th>Honduras</th>\n",
       "      <td>34.055556</td>\n",
       "      <td>50.000000</td>\n",
       "    </tr>\n",
       "    <tr>\n",
       "      <th>Hong</th>\n",
       "      <td>39.000000</td>\n",
       "      <td>43.750000</td>\n",
       "    </tr>\n",
       "    <tr>\n",
       "      <th>Hungary</th>\n",
       "      <td>34.076923</td>\n",
       "      <td>46.333333</td>\n",
       "    </tr>\n",
       "    <tr>\n",
       "      <th>India</th>\n",
       "      <td>38.044944</td>\n",
       "      <td>46.274194</td>\n",
       "    </tr>\n",
       "    <tr>\n",
       "      <th>Iran</th>\n",
       "      <td>39.972973</td>\n",
       "      <td>47.954545</td>\n",
       "    </tr>\n",
       "    <tr>\n",
       "      <th>Ireland</th>\n",
       "      <td>41.269231</td>\n",
       "      <td>45.181818</td>\n",
       "    </tr>\n",
       "    <tr>\n",
       "      <th>Italy</th>\n",
       "      <td>38.690141</td>\n",
       "      <td>45.647059</td>\n",
       "    </tr>\n",
       "    <tr>\n",
       "      <th>Jamaica</th>\n",
       "      <td>38.626374</td>\n",
       "      <td>42.400000</td>\n",
       "    </tr>\n",
       "    <tr>\n",
       "      <th>Japan</th>\n",
       "      <td>39.733333</td>\n",
       "      <td>47.062500</td>\n",
       "    </tr>\n",
       "    <tr>\n",
       "      <th>Laos</th>\n",
       "      <td>39.333333</td>\n",
       "      <td>40.000000</td>\n",
       "    </tr>\n",
       "    <tr>\n",
       "      <th>Mexico</th>\n",
       "      <td>39.931416</td>\n",
       "      <td>45.638298</td>\n",
       "    </tr>\n",
       "    <tr>\n",
       "      <th>Nicaragua</th>\n",
       "      <td>36.847826</td>\n",
       "      <td>38.333333</td>\n",
       "    </tr>\n",
       "    <tr>\n",
       "      <th>Outlying-US(Guam-USVI-etc)</th>\n",
       "      <td>41.409091</td>\n",
       "      <td>40.000000</td>\n",
       "    </tr>\n",
       "    <tr>\n",
       "      <th>Peru</th>\n",
       "      <td>36.214286</td>\n",
       "      <td>40.000000</td>\n",
       "    </tr>\n",
       "    <tr>\n",
       "      <th>Philippines</th>\n",
       "      <td>38.014286</td>\n",
       "      <td>43.588235</td>\n",
       "    </tr>\n",
       "    <tr>\n",
       "      <th>Poland</th>\n",
       "      <td>37.228571</td>\n",
       "      <td>39.588235</td>\n",
       "    </tr>\n",
       "    <tr>\n",
       "      <th>Portugal</th>\n",
       "      <td>41.254545</td>\n",
       "      <td>46.750000</td>\n",
       "    </tr>\n",
       "    <tr>\n",
       "      <th>Puerto-Rico</th>\n",
       "      <td>38.908537</td>\n",
       "      <td>39.900000</td>\n",
       "    </tr>\n",
       "    <tr>\n",
       "      <th>Scotland</th>\n",
       "      <td>40.833333</td>\n",
       "      <td>46.666667</td>\n",
       "    </tr>\n",
       "    <tr>\n",
       "      <th>South</th>\n",
       "      <td>41.052632</td>\n",
       "      <td>51.400000</td>\n",
       "    </tr>\n",
       "    <tr>\n",
       "      <th>Taiwan</th>\n",
       "      <td>35.307692</td>\n",
       "      <td>45.538462</td>\n",
       "    </tr>\n",
       "    <tr>\n",
       "      <th>Thailand</th>\n",
       "      <td>43.040000</td>\n",
       "      <td>53.000000</td>\n",
       "    </tr>\n",
       "    <tr>\n",
       "      <th>Trinadad&amp;Tobago</th>\n",
       "      <td>38.800000</td>\n",
       "      <td>40.000000</td>\n",
       "    </tr>\n",
       "    <tr>\n",
       "      <th>United-States</th>\n",
       "      <td>38.817189</td>\n",
       "      <td>45.471853</td>\n",
       "    </tr>\n",
       "    <tr>\n",
       "      <th>Vietnam</th>\n",
       "      <td>37.848101</td>\n",
       "      <td>39.428571</td>\n",
       "    </tr>\n",
       "    <tr>\n",
       "      <th>Yugoslavia</th>\n",
       "      <td>38.533333</td>\n",
       "      <td>43.375000</td>\n",
       "    </tr>\n",
       "  </tbody>\n",
       "</table>\n",
       "</div>"
      ],
      "text/plain": [
       "income                          <=50K       >50K\n",
       "native-country                                  \n",
       "Cambodia                    41.157895  43.888889\n",
       "Canada                      37.378151  46.126984\n",
       "China                       36.686047  42.027778\n",
       "Columbia                    39.123457  56.250000\n",
       "Cuba                        39.201923  42.852941\n",
       "Dominican-Republic          41.561224  42.800000\n",
       "Ecuador                     37.948718  47.833333\n",
       "El-Salvador                 35.819444  43.454545\n",
       "England                     39.375000  46.297872\n",
       "France                      40.090909  46.500000\n",
       "Germany                     38.898649  45.706897\n",
       "Greece                      41.870968  55.555556\n",
       "Guatemala                   38.788235  36.666667\n",
       "Haiti                       36.409091  40.666667\n",
       "Holand-Netherlands          40.000000        NaN\n",
       "Honduras                    34.055556  50.000000\n",
       "Hong                        39.000000  43.750000\n",
       "Hungary                     34.076923  46.333333\n",
       "India                       38.044944  46.274194\n",
       "Iran                        39.972973  47.954545\n",
       "Ireland                     41.269231  45.181818\n",
       "Italy                       38.690141  45.647059\n",
       "Jamaica                     38.626374  42.400000\n",
       "Japan                       39.733333  47.062500\n",
       "Laos                        39.333333  40.000000\n",
       "Mexico                      39.931416  45.638298\n",
       "Nicaragua                   36.847826  38.333333\n",
       "Outlying-US(Guam-USVI-etc)  41.409091  40.000000\n",
       "Peru                        36.214286  40.000000\n",
       "Philippines                 38.014286  43.588235\n",
       "Poland                      37.228571  39.588235\n",
       "Portugal                    41.254545  46.750000\n",
       "Puerto-Rico                 38.908537  39.900000\n",
       "Scotland                    40.833333  46.666667\n",
       "South                       41.052632  51.400000\n",
       "Taiwan                      35.307692  45.538462\n",
       "Thailand                    43.040000  53.000000\n",
       "Trinadad&Tobago             38.800000  40.000000\n",
       "United-States               38.817189  45.471853\n",
       "Vietnam                     37.848101  39.428571\n",
       "Yugoslavia                  38.533333  43.375000"
      ]
     },
     "execution_count": 10,
     "metadata": {},
     "output_type": "execute_result"
    }
   ],
   "source": [
    "# Getting average working hour per country with income\n",
    "pd.crosstab(data['native-country'], data['income'], \n",
    "           values=data['hours-per-week'], aggfunc=np.mean)"
   ]
  },
  {
   "cell_type": "code",
   "execution_count": 11,
   "id": "f3ca014f",
   "metadata": {},
   "outputs": [
    {
     "data": {
      "text/plain": [
       "Text(0.5, 1.0, 'Education distribution')"
      ]
     },
     "execution_count": 11,
     "metadata": {},
     "output_type": "execute_result"
    },
    {
     "data": {
      "image/png": "[encoded data removed]",
      "text/plain": [
       "<Figure size 432x288 with 1 Axes>"
      ]
     },
     "metadata": {
      "needs_background": "light"
     },
     "output_type": "display_data"
    }
   ],
   "source": [
    "#eductaion distribution; \n",
    "edu_group = data.groupby(['education', 'income']).size().unstack()\n",
    "edu_group.apply(lambda x:x/x.sum(), axis=1).plot(kind='barh', stacked=True, legend=False) # apply(lambda x:x/x.sum(), axis=1) is used to get percentage Bar plots\n",
    "plt.legend(['<=50K', '>50K'], bbox_to_anchor=(1.0, 0.7))\n",
    "plt.ylabel('Education')\n",
    "plt.xlabel('Income ratio')\n",
    "plt.title(\"Education distribution\")"
   ]
  },
  {
   "cell_type": "code",
   "execution_count": 12,
   "id": "62b8569a",
   "metadata": {},
   "outputs": [
    {
     "data": {
      "text/plain": [
       "Text(0.5, 1.0, 'Race distribution')"
      ]
     },
     "execution_count": 12,
     "metadata": {},
     "output_type": "execute_result"
    },
    {
     "data": {
      "image/png": "[encoded data removed]",
      "text/plain": [
       "<Figure size 432x288 with 1 Axes>"
      ]
     },
     "metadata": {
      "needs_background": "light"
     },
     "output_type": "display_data"
    }
   ],
   "source": [
    "# race distribution; race vs income\n",
    "race = data.groupby(['race', 'income']).size().unstack()\n",
    "race.plot(kind='barh', stacked=True, legend=False)\n",
    "plt.legend(['<=50K', '>50K'], bbox_to_anchor=(1.0, 0.7))\n",
    "plt.ylabel('Race')\n",
    "plt.xlabel('Income ratio')\n",
    "plt.title(\"Race distribution\")"
   ]
  },
  {
   "cell_type": "markdown",
   "id": "2737905f",
   "metadata": {},
   "source": [
    "## Data Preparation"
   ]
  },
  {
   "cell_type": "markdown",
   "id": "45b6e05e",
   "metadata": {},
   "source": [
    "Before feeding the data into the machine learning algorithm, we have to clean, format and restructure the data."
   ]
  },
  {
   "cell_type": "markdown",
   "id": "a5c65f51",
   "metadata": {},
   "source": [
    "### Feature selection"
   ]
  },
  {
   "cell_type": "code",
   "execution_count": 13,
   "id": "a931fab6",
   "metadata": {},
   "outputs": [],
   "source": [
    "# Split the data into features and target label\n",
    "income = data['income']\n",
    "features = data.drop('income',axis=1)"
   ]
  },
  {
   "cell_type": "markdown",
   "id": "6c3d8be0",
   "metadata": {},
   "source": [
    "### Normalizing numerical features"
   ]
  },
  {
   "cell_type": "markdown",
   "id": "223e6315",
   "metadata": {},
   "source": [
    "Normalization ensures that each feature is treated equally when applying supervised learning"
   ]
  },
  {
   "cell_type": "code",
   "execution_count": 14,
   "id": "edc2397f",
   "metadata": {},
   "outputs": [
    {
     "data": {
      "text/html": [
       "<div>\n",
       "<style scoped>\n",
       "    .dataframe tbody tr th:only-of-type {\n",
       "        vertical-align: middle;\n",
       "    }\n",
       "\n",
       "    .dataframe tbody tr th {\n",
       "        vertical-align: top;\n",
       "    }\n",
       "\n",
       "    .dataframe thead th {\n",
       "        text-align: right;\n",
       "    }\n",
       "</style>\n",
       "<table border=\"1\" class=\"dataframe\">\n",
       "  <thead>\n",
       "    <tr style=\"text-align: right;\">\n",
       "      <th></th>\n",
       "      <th>age</th>\n",
       "      <th>workclass</th>\n",
       "      <th>education</th>\n",
       "      <th>education-num</th>\n",
       "      <th>marital-status</th>\n",
       "      <th>occupation</th>\n",
       "      <th>relationship</th>\n",
       "      <th>race</th>\n",
       "      <th>sex</th>\n",
       "      <th>capital-gain</th>\n",
       "      <th>capital-loss</th>\n",
       "      <th>hours-per-week</th>\n",
       "      <th>native-country</th>\n",
       "    </tr>\n",
       "  </thead>\n",
       "  <tbody>\n",
       "    <tr>\n",
       "      <th>0</th>\n",
       "      <td>0.109589</td>\n",
       "      <td>Private</td>\n",
       "      <td>11th</td>\n",
       "      <td>0.400000</td>\n",
       "      <td>Never-married</td>\n",
       "      <td>Machine-op-inspct</td>\n",
       "      <td>Own-child</td>\n",
       "      <td>Black</td>\n",
       "      <td>Male</td>\n",
       "      <td>0.000000</td>\n",
       "      <td>0.0</td>\n",
       "      <td>0.397959</td>\n",
       "      <td>United-States</td>\n",
       "    </tr>\n",
       "    <tr>\n",
       "      <th>1</th>\n",
       "      <td>0.287671</td>\n",
       "      <td>Private</td>\n",
       "      <td>HS-grad</td>\n",
       "      <td>0.533333</td>\n",
       "      <td>Married-civ-spouse</td>\n",
       "      <td>Farming-fishing</td>\n",
       "      <td>Husband</td>\n",
       "      <td>White</td>\n",
       "      <td>Male</td>\n",
       "      <td>0.000000</td>\n",
       "      <td>0.0</td>\n",
       "      <td>0.500000</td>\n",
       "      <td>United-States</td>\n",
       "    </tr>\n",
       "    <tr>\n",
       "      <th>2</th>\n",
       "      <td>0.150685</td>\n",
       "      <td>Local-gov</td>\n",
       "      <td>Assoc-acdm</td>\n",
       "      <td>0.733333</td>\n",
       "      <td>Married-civ-spouse</td>\n",
       "      <td>Protective-serv</td>\n",
       "      <td>Husband</td>\n",
       "      <td>White</td>\n",
       "      <td>Male</td>\n",
       "      <td>0.000000</td>\n",
       "      <td>0.0</td>\n",
       "      <td>0.397959</td>\n",
       "      <td>United-States</td>\n",
       "    </tr>\n",
       "    <tr>\n",
       "      <th>3</th>\n",
       "      <td>0.369863</td>\n",
       "      <td>Private</td>\n",
       "      <td>Some-college</td>\n",
       "      <td>0.600000</td>\n",
       "      <td>Married-civ-spouse</td>\n",
       "      <td>Machine-op-inspct</td>\n",
       "      <td>Husband</td>\n",
       "      <td>Black</td>\n",
       "      <td>Male</td>\n",
       "      <td>0.076881</td>\n",
       "      <td>0.0</td>\n",
       "      <td>0.397959</td>\n",
       "      <td>United-States</td>\n",
       "    </tr>\n",
       "    <tr>\n",
       "      <th>4</th>\n",
       "      <td>0.013699</td>\n",
       "      <td>NaN</td>\n",
       "      <td>Some-college</td>\n",
       "      <td>0.600000</td>\n",
       "      <td>Never-married</td>\n",
       "      <td>NaN</td>\n",
       "      <td>Own-child</td>\n",
       "      <td>White</td>\n",
       "      <td>Female</td>\n",
       "      <td>0.000000</td>\n",
       "      <td>0.0</td>\n",
       "      <td>0.295918</td>\n",
       "      <td>United-States</td>\n",
       "    </tr>\n",
       "  </tbody>\n",
       "</table>\n",
       "</div>"
      ],
      "text/plain": [
       "        age  workclass     education  education-num      marital-status  \\\n",
       "0  0.109589    Private          11th       0.400000       Never-married   \n",
       "1  0.287671    Private       HS-grad       0.533333  Married-civ-spouse   \n",
       "2  0.150685  Local-gov    Assoc-acdm       0.733333  Married-civ-spouse   \n",
       "3  0.369863    Private  Some-college       0.600000  Married-civ-spouse   \n",
       "4  0.013699        NaN  Some-college       0.600000       Never-married   \n",
       "\n",
       "          occupation relationship   race     sex  capital-gain  capital-loss  \\\n",
       "0  Machine-op-inspct    Own-child  Black    Male      0.000000           0.0   \n",
       "1    Farming-fishing      Husband  White    Male      0.000000           0.0   \n",
       "2    Protective-serv      Husband  White    Male      0.000000           0.0   \n",
       "3  Machine-op-inspct      Husband  Black    Male      0.076881           0.0   \n",
       "4                NaN    Own-child  White  Female      0.000000           0.0   \n",
       "\n",
       "   hours-per-week native-country  \n",
       "0        0.397959  United-States  \n",
       "1        0.500000  United-States  \n",
       "2        0.397959  United-States  \n",
       "3        0.397959  United-States  \n",
       "4        0.295918  United-States  "
      ]
     },
     "execution_count": 14,
     "metadata": {},
     "output_type": "execute_result"
    }
   ],
   "source": [
    "from sklearn.preprocessing import MinMaxScaler\n",
    "\n",
    "# Initiliaze a scaler, then apply it to the features\n",
    "scaler = MinMaxScaler()\n",
    "numerical = ['age', 'education-num', 'capital-gain','capital-loss','hours-per-week']\n",
    "features[numerical] = scaler.fit_transform(data[numerical])\n",
    "features.head()"
   ]
  },
  {
   "cell_type": "markdown",
   "id": "507b8151",
   "metadata": {},
   "source": [
    "## Preprocessing"
   ]
  },
  {
   "cell_type": "markdown",
   "id": "c3618574",
   "metadata": {},
   "source": [
    "Learning algorithms require that we convert non-numerical features (categorical features) into numeric features. This can be done byb using one-hot encoding scheme. One-hot encoding creates a \"dummy\" variable for each possible category of each non-numeric feature."
   ]
  },
  {
   "cell_type": "code",
   "execution_count": 15,
   "id": "d073056e",
   "metadata": {},
   "outputs": [
    {
     "name": "stdout",
     "output_type": "stream",
     "text": [
      "104 total features after one-hot encoding.\n"
     ]
    }
   ],
   "source": [
    "# One-hot encode the features using pandas.get_dummies()\n",
    "features = pd.get_dummies(features)\n",
    "\n",
    "# Encode the target label into numerical values\n",
    "income = income.apply(lambda x: 1 if x == '>50K' else 0)\n",
    "\n",
    "#Print the number of features after one-hot encoding\n",
    "encoded = list(features.columns)\n",
    "print(\"{} total features after one-hot encoding.\".format(len(encoded)))"
   ]
  },
  {
   "cell_type": "markdown",
   "id": "d56ceb41",
   "metadata": {},
   "source": [
    "### Shuffle and split Data"
   ]
  },
  {
   "cell_type": "code",
   "execution_count": 16,
   "id": "40743a9c",
   "metadata": {},
   "outputs": [
    {
     "name": "stdout",
     "output_type": "stream",
     "text": [
      "Training set has 34189 samples.\n",
      "Testing set has 14653 samples.\n"
     ]
    }
   ],
   "source": [
    "from sklearn.model_selection import train_test_split\n",
    "\n",
    "X_train, X_test, y_train, y_test = train_test_split(features, income, test_size = 0.3, random_state = 100)\n",
    "\n",
    "print(\"Training set has {} samples.\".format(X_train.shape[0]))\n",
    "print(\"Testing set has {} samples.\".format(X_test.shape[0]))"
   ]
  },
  {
   "cell_type": "markdown",
   "id": "1b8a59ce",
   "metadata": {},
   "source": [
    "# Model performance evaluation"
   ]
  },
  {
   "cell_type": "markdown",
   "id": "ffca7a47",
   "metadata": {},
   "source": [
    "The charity foundation is more interested in predicting individuals who make more than $50,000 and we want our predictions to be as accurate as possible. There for using accuracy as a metric would be very appropriate. Additionally making false predictions would be very detrimental, therefore a model's ability to make correct predictions is more important than the model's ability to recall those individuals. I used F-beta score as a metric that considers both precision and recall"
   ]
  },
  {
   "cell_type": "markdown",
   "id": "1b5ab33c",
   "metadata": {},
   "source": [
    "The F-beta score is the weighted harmonic mean of precision and recall, reaching its optimal value at 1 and its worst value at 0. I used a beta value of 0.5"
   ]
  },
  {
   "cell_type": "markdown",
   "id": "618426c8",
   "metadata": {},
   "source": [
    "# Model Training and Prediction"
   ]
  },
  {
   "cell_type": "markdown",
   "id": "3e885bc7",
   "metadata": {},
   "source": [
    "## Logistic Regression"
   ]
  },
  {
   "cell_type": "markdown",
   "id": "913a0f49",
   "metadata": {},
   "source": [
    "I believe this model will be efficient in helping determine the probability whether a person makes more than $50,000 or not due to the target variable being binary. This model is easier to implement, intepret and very efficient to train"
   ]
  },
  {
   "cell_type": "code",
   "execution_count": 39,
   "id": "35bddda6",
   "metadata": {},
   "outputs": [
    {
     "name": "stdout",
     "output_type": "stream",
     "text": [
      "Our model's accuracy score is: 0.8482222070565755.\n",
      "Our model's fbeta score is: 0.6965006729475101.\n",
      "{'train_time': 2.3252670764923096, 'pred_time': 0.019000530242919922, 'total_time': 2.3442676067352295}\n"
     ]
    }
   ],
   "source": [
    "from sklearn.linear_model import LogisticRegression\n",
    "from sklearn.metrics import accuracy_score, fbeta_score\n",
    "logistic_model = LogisticRegression(max_iter=1000)\n",
    "\n",
    "#model training\n",
    "start = time()\n",
    "logistic_model.fit(X_train,y_train)\n",
    "end = time()\n",
    "results['train_time'] = end - start # finding training time\n",
    "\n",
    "# model prediction\n",
    "start = time()\n",
    "y_pred_logistic = logistic_model.predict(X_test) # make predictions for the testing set\n",
    "end = time()\n",
    "results['pred_time'] = end - start # finding prediction time\n",
    "\n",
    "results['total_time'] = results['train_time'] + results['pred_time']\n",
    "\n",
    "logistic_accuracy = accuracy_score(y_test,y_pred_logistic)\n",
    "logistic_fbeta = fbeta_score(y_test,y_pred_logistic, beta = 0.5)\n",
    "print(\"Our model's accuracy score is: {}.\".format(logistic_accuracy))\n",
    "print(\"Our model's fbeta score is: {}.\".format(logistic_fbeta))\n",
    "print(results)"
   ]
  },
  {
   "cell_type": "code",
   "execution_count": 18,
   "id": "4b75b726",
   "metadata": {},
   "outputs": [
    {
     "name": "stderr",
     "output_type": "stream",
     "text": [
      "C:\\Users\\Disleve Kanku\\anaconda3\\lib\\site-packages\\seaborn\\distributions.py:2557: FutureWarning: `distplot` is a deprecated function and will be removed in a future version. Please adapt your code to use either `displot` (a figure-level function with similar flexibility) or `kdeplot` (an axes-level function for kernel density plots).\n",
      "  warnings.warn(msg, FutureWarning)\n",
      "C:\\Users\\Disleve Kanku\\anaconda3\\lib\\site-packages\\seaborn\\distributions.py:2557: FutureWarning: `distplot` is a deprecated function and will be removed in a future version. Please adapt your code to use either `displot` (a figure-level function with similar flexibility) or `kdeplot` (an axes-level function for kernel density plots).\n",
      "  warnings.warn(msg, FutureWarning)\n"
     ]
    },
    {
     "data": {
      "text/plain": [
       "<matplotlib.legend.Legend at 0x2d8d5758730>"
      ]
     },
     "execution_count": 18,
     "metadata": {},
     "output_type": "execute_result"
    },
    {
     "data": {
      "image/png": "[encoded data removed]",
      "text/plain": [
       "<Figure size 432x288 with 1 Axes>"
      ]
     },
     "metadata": {
      "needs_background": "light"
     },
     "output_type": "display_data"
    }
   ],
   "source": [
    "ax = sns.distplot(y_test,hist=False,label='Actual Values')\n",
    "ax = sns.distplot(y_pred_logistic,hist=False,label='Predicted Values')\n",
    "ax.set_title(\"Logistic Regression\")\n",
    "plt.legend()"
   ]
  },
  {
   "cell_type": "markdown",
   "id": "57a66f4c",
   "metadata": {},
   "source": [
    "## Support Vector Machines (SVM)"
   ]
  },
  {
   "cell_type": "markdown",
   "id": "481f89f5",
   "metadata": {},
   "source": [
    "I chose this model because of its effectiveness given high dimensionality. after adding dummy variables, we have more than 100 features in our dataset."
   ]
  },
  {
   "cell_type": "code",
   "execution_count": 35,
   "id": "41921918",
   "metadata": {},
   "outputs": [
    {
     "name": "stderr",
     "output_type": "stream",
     "text": [
      "C:\\Users\\Disleve Kanku\\anaconda3\\lib\\site-packages\\sklearn\\svm\\_base.py:255: ConvergenceWarning: Solver terminated early (max_iter=1000).  Consider pre-processing your data with StandardScaler or MinMaxScaler.\n",
      "  warnings.warn('Solver terminated early (max_iter=%i).'\n"
     ]
    },
    {
     "name": "stdout",
     "output_type": "stream",
     "text": [
      "Our model's accuracy score is: 0.7501535521736163.\n",
      "Our model's fbeta score is: 0.5177966101694915.\n",
      "{'train_time': 12.739222764968872, 'pred_time': 8.930583238601685, 'total_time': 21.669806003570557}\n"
     ]
    }
   ],
   "source": [
    "from sklearn.svm import SVC\n",
    "\n",
    "results = {}\n",
    "svm_model = SVC(max_iter=1000)\n",
    "\n",
    "# model training\n",
    "start = time()\n",
    "svm_model.fit(X_train,y_train)\n",
    "end = time()\n",
    "results['train_time'] = end - start # finding training time\n",
    "\n",
    "#model prediction\n",
    "start = time()\n",
    "y_pred_svm = svm_model.predict(X_test) # make predictions for the testing set\n",
    "end = time()\n",
    "results['pred_time'] = end - start # finding prediction time\n",
    "\n",
    "results['total_time'] = results['train_time'] + results['pred_time']\n",
    "\n",
    "svm_accuracy = accuracy_score(y_test,y_pred_svm)\n",
    "svm_fbeta = fbeta_score(y_test,y_pred_svm, beta = 0.5)\n",
    "print(\"Our model's accuracy score is: {}.\".format(svm_accuracy))\n",
    "print(\"Our model's fbeta score is: {}.\".format(svm_fbeta))\n",
    "print(results)"
   ]
  },
  {
   "cell_type": "code",
   "execution_count": 93,
   "id": "22b8748a",
   "metadata": {},
   "outputs": [
    {
     "name": "stderr",
     "output_type": "stream",
     "text": [
      "C:\\Users\\Disleve Kanku\\anaconda3\\lib\\site-packages\\seaborn\\distributions.py:2557: FutureWarning: `distplot` is a deprecated function and will be removed in a future version. Please adapt your code to use either `displot` (a figure-level function with similar flexibility) or `kdeplot` (an axes-level function for kernel density plots).\n",
      "  warnings.warn(msg, FutureWarning)\n",
      "C:\\Users\\Disleve Kanku\\anaconda3\\lib\\site-packages\\seaborn\\distributions.py:2557: FutureWarning: `distplot` is a deprecated function and will be removed in a future version. Please adapt your code to use either `displot` (a figure-level function with similar flexibility) or `kdeplot` (an axes-level function for kernel density plots).\n",
      "  warnings.warn(msg, FutureWarning)\n"
     ]
    },
    {
     "data": {
      "text/plain": [
       "<matplotlib.legend.Legend at 0x20856eeed00>"
      ]
     },
     "execution_count": 93,
     "metadata": {},
     "output_type": "execute_result"
    },
    {
     "data": {
      "image/png": "[encoded data removed]",
      "text/plain": [
       "<Figure size 432x288 with 1 Axes>"
      ]
     },
     "metadata": {
      "needs_background": "light"
     },
     "output_type": "display_data"
    }
   ],
   "source": [
    "ax = sns.distplot(y_test,hist=False,label='Actual Values')\n",
    "ax = sns.distplot(y_pred_svm,hist=False,label='Predicted Values')\n",
    "ax.set_title(\"SVM\")\n",
    "plt.legend()"
   ]
  },
  {
   "cell_type": "markdown",
   "id": "892a0211",
   "metadata": {},
   "source": [
    "## Random Forest Classifier"
   ]
  },
  {
   "cell_type": "markdown",
   "id": "c8f605b6",
   "metadata": {},
   "source": [
    "This model makes highly accurate predictions and that's why I chose it. although this model increases the cost of computation compared to other algorithms, RF is a good choice for charity organizations where prediction accuracy is very important"
   ]
  },
  {
   "cell_type": "code",
   "execution_count": 40,
   "id": "2fda1101",
   "metadata": {},
   "outputs": [
    {
     "name": "stdout",
     "output_type": "stream",
     "text": [
      "Our model's accuracy score is: 0.8448781819422644.\n",
      "Our model's fbeta score is: 0.6842536560766516.\n",
      "{'train_time': 9.127439260482788, 'pred_time': 0.6427264213562012, 'total_time': 9.77016568183899}\n"
     ]
    }
   ],
   "source": [
    "from sklearn.ensemble import RandomForestClassifier\n",
    "RF = RandomForestClassifier()\n",
    "# model training\n",
    "start = time()\n",
    "RF.fit(X_train,y_train)\n",
    "end = time()\n",
    "results['train_time'] = end - start # finding training time\n",
    "\n",
    "# model training\n",
    "start = time()\n",
    "y_pred_RF = RF.predict(X_test) # make predictions for the testing set\n",
    "end = time()\n",
    "results['pred_time'] = end - start # finding prediction time\n",
    "\n",
    "results['total_time'] = results['train_time'] + results['pred_time']\n",
    "\n",
    "RF_accuracy = accuracy_score(y_test,y_pred_RF)\n",
    "RF_fbeta = fbeta_score(y_test,y_pred_RF, beta = 0.5)\n",
    "print(\"Our model's accuracy score is: {}.\".format(RF_accuracy))\n",
    "print(\"Our model's fbeta score is: {}.\".format(RF_fbeta))\n",
    "print (results)"
   ]
  },
  {
   "cell_type": "code",
   "execution_count": 41,
   "id": "51c6207a",
   "metadata": {},
   "outputs": [
    {
     "name": "stderr",
     "output_type": "stream",
     "text": [
      "C:\\Users\\Disleve Kanku\\anaconda3\\lib\\site-packages\\seaborn\\distributions.py:2557: FutureWarning: `distplot` is a deprecated function and will be removed in a future version. Please adapt your code to use either `displot` (a figure-level function with similar flexibility) or `kdeplot` (an axes-level function for kernel density plots).\n",
      "  warnings.warn(msg, FutureWarning)\n",
      "C:\\Users\\Disleve Kanku\\anaconda3\\lib\\site-packages\\seaborn\\distributions.py:2557: FutureWarning: `distplot` is a deprecated function and will be removed in a future version. Please adapt your code to use either `displot` (a figure-level function with similar flexibility) or `kdeplot` (an axes-level function for kernel density plots).\n",
      "  warnings.warn(msg, FutureWarning)\n"
     ]
    },
    {
     "data": {
      "text/plain": [
       "<matplotlib.legend.Legend at 0x2d8d694dd60>"
      ]
     },
     "execution_count": 41,
     "metadata": {},
     "output_type": "execute_result"
    },
    {
     "data": {
      "image/png": "[encoded data removed]",
      "text/plain": [
       "<Figure size 432x288 with 1 Axes>"
      ]
     },
     "metadata": {
      "needs_background": "light"
     },
     "output_type": "display_data"
    }
   ],
   "source": [
    "ax = sns.distplot(y_test,hist=False,label='Actual Values')\n",
    "ax = sns.distplot(y_pred_RF,hist=False,label='Predicted Values')\n",
    "ax.set_title(\"Random Forest\")\n",
    "plt.legend()"
   ]
  },
  {
   "cell_type": "markdown",
   "id": "2539f773",
   "metadata": {},
   "source": [
    "Looking at the results above, Logistic regression is the most appropriate model for our task"
   ]
  },
  {
   "cell_type": "markdown",
   "id": "222dcb73",
   "metadata": {},
   "source": [
    "First and foremost, it performs the best in terms of both the accuracy and f-score. it also takes a small amount of time to train the dataset."
   ]
  }
 ],
 "metadata": {
  "kernelspec": {
   "display_name": "Python 3",
   "language": "python",
   "name": "python3"
  },
  "language_info": {
   "codemirror_mode": {
    "name": "ipython",
    "version": 3
   },
   "file_extension": ".py",
   "mimetype": "text/x-python",
   "name": "python",
   "nbconvert_exporter": "python",
   "pygments_lexer": "ipython3",
   "version": "3.8.8"
  }
 },
 "nbformat": 4,
 "nbformat_minor": 5
}
